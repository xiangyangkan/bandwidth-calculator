{
 "cells": [
  {
   "cell_type": "code",
   "execution_count": 1,
   "metadata": {},
   "outputs": [],
   "source": [
    "import pandas as pd\n",
    "import ipywidgets as widgets\n",
    "from ipywidgets import interact, interact_manual\n",
    "from IPython.core.interactiveshell import InteractiveShell\n",
    "interact_manual.opts['manual_name'] = '确认'"
   ]
  },
  {
   "cell_type": "code",
   "execution_count": 2,
   "metadata": {},
   "outputs": [],
   "source": [
    "# display_ratio_list = ['16:9', '16:10', '21:9']\n",
    "# display_ratio =  widgets.RadioButtons(options=['16:9', '16:10', '21:9'])\n",
    "resolution_16_9_list = ['1280 × 720', '1600 × 900', '1920 × 1080', '2560 × 1440', '3840 × 2160', '7680 × 4320', '10240 × 4320', '15360 × 8460']\n",
    "refresh_rate_list = ['24 HZ', '30 HZ', '60 HZ', '75 HZ', '90 HZ', '120 HZ', '144 HZ', '155 HZ', '165 HZ']\n",
    "color_depth_list = ['8 bit', '10 bit', '12 bit', '14 bit', '16 bit']\n",
    "chroma_subsampling_series = pd.Series([3, 2, 1.5], index = ['RGB 4:4:4', 'YUV 4:2:2', 'YUV 4:2:0'])\n",
    "display_interface_series = pd.Series([10.2, 18, 48, 21.6, 32.4, 96.75], index = ['HDMI 1.4', 'HDMI 2.0', 'HDMI 2.1', 'DP 1.2', 'DP 1.4', 'DP 2.0'])"
   ]
  },
  {
   "cell_type": "code",
   "execution_count": 3,
   "metadata": {},
   "outputs": [
    {
     "data": {
      "application/vnd.jupyter.widget-view+json": {
       "model_id": "51a4b7ca0e544cde8eef35410d85e381",
       "version_major": 2,
       "version_minor": 0
      },
      "text/plain": [
       "interactive(children=(Dropdown(description='屏幕分辨率：', index=4, options=('1280 × 720', '1600 × 900', '1920 × 108…"
      ]
     },
     "metadata": {},
     "output_type": "display_data"
    },
    {
     "data": {
      "text/plain": [
       "<function __main__.bandwidth(resolution, refresh_rate, color_depth, chroma_subsampling)>"
      ]
     },
     "execution_count": 3,
     "metadata": {},
     "output_type": "execute_result"
    }
   ],
   "source": [
    "def bandwidth(resolution, refresh_rate, color_depth, chroma_subsampling):\n",
    "    bw = int(resolution.split(' × ')[0]) * int(resolution.split(' × ')[1]) * int(refresh_rate.split(' ')[0]) * int(color_depth.split(' ')[0]) * chroma_subsampling_series[chroma_subsampling] / 0.8 / 1024 /1024 / 1024\n",
    "    display_interfaces = display_interface_series[display_interface_series > bw].index.tolist()\n",
    "    print(f'需要带宽:\\n{bw} Gbps\\n可用接口:\\n{display_interfaces}')\n",
    "    \n",
    "interact_manual(bandwidth,\n",
    "    resolution = widgets.Dropdown(options=resolution_16_9_list, value='3840 × 2160', description='屏幕分辨率：', disabled=False),\n",
    "    refresh_rate = widgets.Dropdown(options=refresh_rate_list, value='60 HZ', description='屏幕刷新率：', disabled=False),\n",
    "    color_depth = widgets.Dropdown(options=color_depth_list, value='8 bit', description='色深：', disabled=False),\n",
    "    chroma_subsampling = widgets.Dropdown(options=chroma_subsampling_series.index.tolist(), value='RGB 4:4:4', description='颜色编码：', disabled=False)\n",
    ")"
   ]
  },
  {
   "cell_type": "code",
   "execution_count": null,
   "metadata": {},
   "outputs": [],
   "source": []
  }
 ],
 "metadata": {
  "kernelspec": {
   "display_name": "Python 3",
   "language": "python",
   "name": "python3"
  },
  "language_info": {
   "codemirror_mode": {
    "name": "ipython",
    "version": 3
   },
   "file_extension": ".py",
   "mimetype": "text/x-python",
   "name": "python",
   "nbconvert_exporter": "python",
   "pygments_lexer": "ipython3",
   "version": "3.7.3"
  }
 },
 "nbformat": 4,
 "nbformat_minor": 2
}
